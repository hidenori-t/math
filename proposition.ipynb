{
 "cells": [
  {
   "cell_type": "markdown",
   "metadata": {},
   "source": [
    "tweetが気になったので,公理についてまとめる\n",
    "\n",
    "<blockquote class=\"twitter-tweet\" lang=\"ja\"><p lang=\"ja\" dir=\"ltr\">あぁ、こうして数学科の学生が、機械学習や言語処理を理解してプログラミング上達したら工学部より売れるんじゃないかな。野崎昭弘先生が言ってたもの。「定義」と「公理系」がわかる、という人材は実は貴重。リアリティのある対象さえ見つかって、具体的問題解決能力が備わったら強いって。</p>&mdash; norico (@noricoco) <a href=\"https://twitter.com/noricoco/status/644390339894099971\">2015, 9月 17</a></blockquote>\n",
    "<script async src=\"//platform.twitter.com/widgets.js\" charset=\"utf-8\"></script>\n",
    "\n",
    "https://twitter.com/noricoco/status/644390339894099971\n",
    "[「公理系」とはどういう考え方か。ゲーデルの不完全性定理の誤用例](http://abrahamcow.hatenablog.com/entry/2014/12/27/154046)\n",
    "\n",
    "http://www2.itc.kansai-u.ac.jp/~wakui/KisoMath.pdf"
   ]
  },
  {
   "cell_type": "markdown",
   "metadata": {},
   "source": [
    "# 「定義」と「公理系」とは"
   ]
  },
  {
   "cell_type": "markdown",
   "metadata": {},
   "source": [
    "公理、定義、定理はいずれも命題（proposition）\n",
    "\n",
    "# 命題（proposition）\n",
    "\n",
    "> 一般に,数や図形などの数学的対象について,いくつかの\"基本的な接続詞と述語”や,演算記号を用いて記述される曖昧さのない文章のことを数学的命題という.\n",
    "ここで,\"基本的な接続詞と述語\"とは,「ならば」「または」「かつ」「である」「ではない」「存在する」などの論理的な文章でよく使われる言葉を指す.演算記号とは「=」「̸= 」「<」「+」などの数学でよく使われる記号を指す.以後,単に命題と呼べばそれは数学的命題のことを意味する\n",
    "こととする. http://www2.itc.kansai-u.ac.jp/~wakui/KisoMath.pdf\n",
    "\n",
    "真（true）か偽（false）か,どちらかに決めることができる文のこと.\n",
    "「 A は B である」とか「もし P ならば Q である」とか「y=f(x)」というような形をとる.\n",
    "「灰色は黒とも言えるし、白とも言えるし、まあ人それぞれですね」という文は命題ではない."
   ]
  },
  {
   "cell_type": "markdown",
   "metadata": {},
   "source": [
    "# 定理 (theorem)\n",
    "成り立つことがすでに証明されている命題の中で、特に重要であると認識されるものに使われる."
   ]
  }
 ],
 "metadata": {
  "kernelspec": {
   "display_name": "Python 2",
   "language": "python",
   "name": "python2"
  },
  "language_info": {
   "codemirror_mode": {
    "name": "ipython",
    "version": 2
   },
   "file_extension": ".py",
   "mimetype": "text/x-python",
   "name": "python",
   "nbconvert_exporter": "python",
   "pygments_lexer": "ipython2",
   "version": "2.7.10"
  }
 },
 "nbformat": 4,
 "nbformat_minor": 0
}
