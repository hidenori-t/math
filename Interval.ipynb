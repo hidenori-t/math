{
 "cells": [
  {
   "cell_type": "markdown",
   "metadata": {},
   "source": [
    "# 区間\n",
    "$p$ , $q$が実数のとき,  \n",
    "$p \\leqq x \\leqq q, p < x < q, x \\leqq p$ などとなる実数 $x$ の集合を区間といい,  \n",
    "$p$, $q$などを区間の端点という. "
   ]
  },
  {
   "cell_type": "markdown",
   "metadata": {},
   "source": [
    "区間は,その上限, 下限がその区間に含まれるかどうかで分類できる.\n",
    "\n",
    "* 閉区間  \n",
    "上限や下限がその区間に含まれるとき\n",
    "$$ p \\leqq x \\leqq q \\rightarrow [p, q] $$\n",
    "\n",
    "* 開区間  \n",
    "上限や下限がその区間に含まれないとき\n",
    "$$ p < x < q \\rightarrow (p, q) $$\n",
    "\n",
    "* 半開区間  \n",
    "一方の上限あるいは下限が含まれて,もう一方が含まれない区間\n",
    "$$ p \\leqq x < q \\rightarrow [p, q) $$\n",
    "\n",
    "* 無限区間\n",
    "$$ x \\leqq p \\rightarrow (-∞, p] $$"
   ]
  },
  {
   "cell_type": "markdown",
   "metadata": {},
   "source": [
    "### 参考文献\n",
    "1) 今井 勧:『[大学生のための なんとかなる微分積分](http://amzn.to/1MM69KR)』ナツメ社, 2009."
   ]
  }
 ],
 "metadata": {
  "kernelspec": {
   "display_name": "Python 2",
   "language": "python",
   "name": "python2"
  },
  "language_info": {
   "codemirror_mode": {
    "name": "ipython",
    "version": 2
   },
   "file_extension": ".py",
   "mimetype": "text/x-python",
   "name": "python",
   "nbconvert_exporter": "python",
   "pygments_lexer": "ipython2",
   "version": "2.7.10"
  }
 },
 "nbformat": 4,
 "nbformat_minor": 0
}
