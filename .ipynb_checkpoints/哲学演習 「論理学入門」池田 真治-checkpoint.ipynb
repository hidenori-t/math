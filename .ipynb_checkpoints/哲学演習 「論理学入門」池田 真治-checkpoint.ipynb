{
 "cells": [
  {
   "cell_type": "markdown",
   "metadata": {},
   "source": [
    "http://researchmap.jp/muyd9q84b-1774112/?action=multidatabase_action_main_filedownload&download_flag=1&upload_id=68262&metadata_id=39541\n",
    "#  第1回 \n",
    "## 2.1 論理学とは何か\n",
    "### 論理学が扱う対象\n",
    "* 論証(argument, demonstration)\n",
    "* 証明(proof)\n",
    "* 推論(inference, reasoning)\n",
    "\n",
    "論証や証明、推論といっても、いろいろなパターンがあるから、論理学にもいろいろな種類がある。\n",
    "\n",
    "{この授業で主に扱うのは、「真」や「偽」を対象とする「意味論」と呼ばれる「形式論理学」の分野である(「記号論理学」という呼び方もよくなされる)。}\n",
    "\n",
    "\n",
    "そこでは、前件すなわち前提がすべて真な場合に、後件すなわち帰結も真 になるかどうか、という「論理的帰結」(logical consequence)が問題になる。\n",
    "\n",
    "### 「演繹的推論」あるいは単に「演繹」  \n",
    "\n",
    "論理的帰結のなかには、命題の真偽によらず、ある「形式」にはまりさえすれば、自動的にその推論が正しいか否かが判定できるタイプの推論.\n",
    "\n",
    "簡単には、いくつかの前提を正しいと仮定したときに、正しい結論を導き出すこと。\n",
    "言い換えると、正しい前提が与えられれば、かっちりと固定した正しい結論を、いつでも正確に導くことができるタイプの推論\n",
    "\n",
    "演繹的推論では、規則(ルール)をきちんと使いさえすれば、自動的に、正しい答えが出てくる。\n",
    "その意味で、「形式」に沿ったきわめて機械的なタイプの推論\n",
    "\n",
    "## 2.2 構文論と意味論\n",
    "正しいと考えられる推論にも、いくつかの異なるパターンがある.\n",
    "論理には、一般に次の2つの手法がある.\n",
    "\n",
    "* 構文論 (Syntax)・・・命題が推論規則によって示せるかどうかという証明を問題にする。(自然演繹、証明論)  \n",
    "構文論は規則を重視して、機械的な計算によって、前提となる命題から結論となる命題までの導出過程を描く  \n",
    "論証の正しさ、言い換えると論証の「妥当性」(validity)が問題\n",
    "\n",
    "* 意味論 (Semantics)・・・命題が真か偽かという解釈を問題にする。(真理値表、タブロー、モデル理論)  \n",
    "意味論は真理を重視して、前提となる命題の真理値の組み合わせ方によって、結論となる命題がどういう真理値をとるか、その解釈を描く。  \n",
    "命題の正しさ、言い換えると命題の「真」(true)/「偽」(false)が問題  \n",
    "われわれの真偽に基づく判断を体系化してくれている"
   ]
  },
  {
   "cell_type": "markdown",
   "metadata": {
    "collapsed": true
   },
   "source": [
    "http://researchmap.jp/mu4pxx5n2-1774112/?action=multidatabase_action_main_filedownload&download_flag=1&upload_id=68263&metadata_id=39541\n",
    "#  第2回 \n",
    "## 2.1 自然言語と人工言語はどう違うのか?\n",
    "自然言語は、表現が極めて豊かであるが、その分、命題の論理形式(logical form)にだけ注目するのには、向いていない。\n",
    "論証の妥当性(validity)だけが問題になる場合、論証の構造を明確にするのに特化した 言語の方が都合がよい。\n",
    "\n",
    "## 2.2 論理学の目標\n",
    "命題の真理と区別された、論証の妥当性とは何かをはっきりさせること  \n",
    "\n",
    "そのために、論証の内容はいったん忘れ、論証の形式に注目する必要がある.  \n",
    "その際, 「でない」、「または」、「かつ」、「ならば」、「すべて」などの論理定項(logical constants)に注目する必要がある\n",
    "\n",
    "自然言語では命題の論理形式が文法形式に覆い隠されてしまうことがある\n",
    "\n",
    "論証の妥当性にかかわる部分(論理定項)と、そうでない部分が最初からはっきり分かれているような言語、論証の論理形式が一目でわかるような言語を、人工的につくってしまおう。\n",
    "\n",
    "## 2.4 正しい論証にかかわる情報\n",
    "論理学の目標に照らすと、正しい論証にかかわるのは、真偽という評価軸\n",
    "\n",
    "## 2.5 真理関数という考え方\n",
    "### 真理関数型結合子\n",
    "「または」、「かつ」、「でない」、「ならば」  \n",
    "それは、単純命題の真偽の値が決まれば、全体の複合命題の真偽の値も決まる、とい\n",
    "うもの"
   ]
  },
  {
   "cell_type": "markdown",
   "metadata": {
    "collapsed": true
   },
   "source": [
    "http://researchmap.jp/mu54jnjgy-1774112/?action=multidatabase_action_main_filedownload&download_flag=1&upload_id=96093&metadata_id=39541\n",
    "#  第3回 \n",
    "## 3.1 「かつ」、「または」、「でない」、「ならば」の真理値表\n",
    "結合子は、命題を入れたら一つの真理値を返す関数\n",
    "\n",
    "## 3.2.4 双条件法の真理表\n",
    "$(A \\to B ) \\land (B \\to A )$を略して、$A \\leftrightarrow B$ と書く  \n",
    "\"$A$ if and only if $B$\" あるいは縮めて \"$A$ iff $B$\" \n",
    "「$A$ であるのは $B$ であるとき、かつそのときに限る」という表現で, $A$ と $B$ が等価であることを示す."
   ]
  },
  {
   "cell_type": "markdown",
   "metadata": {
    "collapsed": true
   },
   "source": [
    "http://researchmap.jp/mu53ho1t6-1774112/?action=multidatabase_action_main_filedownload&download_flag=1&upload_id=68265&metadata_id=39541\n",
    "#  第4回 \n",
    "## 4.3 トートロジーあれこれ\n",
    "トートロジーは、情報量 $0$ である。  \n",
    "しかし、「内容によらず形式によってのみ真である」というトートロジーの特徴は、真なる学問を目指す論理学の核心に触れているもので、実際、論理学において重要な役割を果たす。\n",
    "\n",
    "## 4.4 論理的同値性\n",
    "$A \\models \\logequiv B$ は日本語に属する文なので、形式言語 L に属する論理式 $A \\leftrightarrow B$ と混同 しないこと。\n",
    "「$ \\Leftrightarrow _{def} $ 」は、左辺が右辺で定義されることを意味する省略記号\n",
    "\n",
    "$\\rightmodels$\n",
    "$\\leftmodels$\n",
    "$A\\myequiv B$\n",
    "$\\sledommodels$\n",
    "$\\rmodels$"
   ]
  },
  {
   "cell_type": "markdown",
   "metadata": {
    "collapsed": true
   },
   "source": [
    "http://researchmap.jp/mu8qevvgy-1774112/?action=multidatabase_action_main_filedownload&download_flag=1&upload_id=68266&metadata_id=39541\n",
    "#  第5回\n",
    "# 5 論証の妥当性\n",
    "## 5.1 真理値分析\n",
    "われわれが真理表を用いて真理値計算してきたことを一般化したものを、真理値分析と言う。  \n",
    "真理値分析というのは、原子式($P, Q$ など)に対する真理値割り当て($0, 1$)を拡張して、複合的論理式($(P  \\wedge  (P \\to Q)) \\to Q$ など)への真理値割り当てを行うこと\n",
    "\n",
    "## 5.6 アンチノミー (Antinomie)\n",
    "アンチノミーとは、同等の根拠 $A$ から、$B$(テーゼ)と $¬B$(アンチテーゼ)の2つの対立する命題が導かれてしまうこと。"
   ]
  },
  {
   "cell_type": "markdown",
   "metadata": {
    "collapsed": true
   },
   "source": [
    "http://researchmap.jp/mux2u7bde-1774112/?action=multidatabase_action_main_filedownload&download_flag=1&upload_id=68267&metadata_id=39541\n",
    "#  第6回 論理的帰結と真理関数 \n",
    "## 6. 1 論理的帰結 (logical consequence)\n",
    "「C が A1,··· ,An の論理的帰結である」を\n",
    "$$A_{1}, \\cdots ,A_{n} \\models C$$\n",
    "「前提A1,···,An と結論Cをもつ論証が妥当である」  \n",
    "ことは    \n",
    "「CがA1,···,An の論理的帰結(logical consequence)である」  \n",
    "という言い方でも表現される。  \n",
    "したがって、論証の 妥当性の定義は次のように言い換えられる。\n",
    "\n",
    "## 4.4 論理的同値性"
   ]
  },
  {
   "cell_type": "markdown",
   "metadata": {
    "collapsed": true
   },
   "source": [
    "http://researchmap.jp/mub7tmykm-1774112/?action=multidatabase_action_main_filedownload&download_flag=1&upload_id=68268&metadata_id=39541\n",
    "#  第7回 \n",
    "## 4.3 トートロジーあれこれ\n",
    "トートロジーは、情報量 $0$ である。  \n",
    "しかし、「内容によらず形式によってのみ真である」というトートロジーの特徴は、真なる学問を目指す論理学の核心に触れているもので、実際、論理学において重要な役割を果たす。\n",
    "\n",
    "## 4.4 論理的同値性"
   ]
  },
  {
   "cell_type": "markdown",
   "metadata": {
    "collapsed": true
   },
   "source": [
    "http://researchmap.jp/mu03gtcsf-1774112/?action=multidatabase_action_main_filedownload&download_flag=1&upload_id=68269&metadata_id=39541\n",
    "#  第8回 \n",
    "## 4.3 トートロジーあれこれ\n",
    "トートロジーは、情報量 $0$ である。  \n",
    "しかし、「内容によらず形式によってのみ真である」というトートロジーの特徴は、真なる学問を目指す論理学の核心に触れているもので、実際、論理学において重要な役割を果たす。\n",
    "\n",
    "## 4.4 論理的同値性"
   ]
  },
  {
   "cell_type": "markdown",
   "metadata": {
    "collapsed": true
   },
   "source": [
    "http://researchmap.jp/mucuprvu1-1774112/?action=multidatabase_action_main_filedownload&download_flag=1&upload_id=68271&metadata_id=39541\n",
    "#  第9回 \n",
    "## 4.3 トートロジーあれこれ\n",
    "トートロジーは、情報量 $0$ である。  \n",
    "しかし、「内容によらず形式によってのみ真である」というトートロジーの特徴は、真なる学問を目指す論理学の核心に触れているもので、実際、論理学において重要な役割を果たす。\n",
    "\n",
    "## 4.4 論理的同値性"
   ]
  },
  {
   "cell_type": "code",
   "execution_count": null,
   "metadata": {
    "collapsed": true
   },
   "outputs": [],
   "source": []
  }
 ],
 "metadata": {
  "kernelspec": {
   "display_name": "Python 3",
   "language": "python",
   "name": "python3"
  },
  "language_info": {
   "codemirror_mode": {
    "name": "ipython",
    "version": 3
   },
   "file_extension": ".py",
   "mimetype": "text/x-python",
   "name": "python",
   "nbconvert_exporter": "python",
   "pygments_lexer": "ipython3",
   "version": "3.5.0"
  }
 },
 "nbformat": 4,
 "nbformat_minor": 0
}
