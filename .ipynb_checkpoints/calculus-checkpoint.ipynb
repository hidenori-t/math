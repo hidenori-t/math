{
 "cells": [
  {
   "cell_type": "markdown",
   "metadata": {},
   "source": [
    "# 微分積分学"
   ]
  },
  {
   "cell_type": "markdown",
   "metadata": {},
   "source": [
    "偏微分を理解しようと思ったが,微分を忘れている気がしたので少し勉強する."
   ]
  },
  {
   "cell_type": "markdown",
   "metadata": {},
   "source": [
    "## 参考文献 \n",
    "1)岡部 恒治  (著), 藤岡 文世 (イラスト):『[マンガ・微積分入門―楽しく読めて、よくわかる (ブルーバックス)](http://amzn.to/1LzspS2)』講談社, 1994. "
   ]
  },
  {
   "cell_type": "markdown",
   "metadata": {},
   "source": [
    "積分とは,面積を分けて考える,という意味.微分とは,微かく分けて考える,曲線を分解し分析する作業.\n",
    "導関数 $f'(x)$を求めることを微分という.\n",
    "\n",
    "導関数とは,各点で接線の傾きを表す関数のこと $(x,f(x))$ $x$に傾きを与える関数$(f'(x))$"
   ]
  },
  {
   "cell_type": "markdown",
   "metadata": {},
   "source": [
    "$$ f'(x)=\\lim_{h \\to 0} \\frac{f(x+h) - f(x)}{h} $$"
   ]
  }
 ],
 "metadata": {
  "kernelspec": {
   "display_name": "Python 2",
   "language": "python",
   "name": "python2"
  },
  "language_info": {
   "codemirror_mode": {
    "name": "ipython",
    "version": 2
   },
   "file_extension": ".py",
   "mimetype": "text/x-python",
   "name": "python",
   "nbconvert_exporter": "python",
   "pygments_lexer": "ipython2",
   "version": "2.7.10"
  }
 },
 "nbformat": 4,
 "nbformat_minor": 0
}
