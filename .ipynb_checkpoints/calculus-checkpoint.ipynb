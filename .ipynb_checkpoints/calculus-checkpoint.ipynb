{
 "cells": [
  {
   "cell_type": "markdown",
   "metadata": {},
   "source": [
    "# 微分積分学"
   ]
  },
  {
   "cell_type": "markdown",
   "metadata": {},
   "source": [
    "偏微分を理解しようと思ったが,微分を忘れている気がしたので勉強する."
   ]
  },
  {
   "cell_type": "markdown",
   "metadata": {},
   "source": [
    "## 参考文献 \n",
    "1)岡部 恒治  (著), 藤岡 文世 (イラスト):『[マンガ・微積分入門―楽しく読めて、よくわかる (ブルーバックス)](http://amzn.to/1LzspS2)』講談社, 1994. \n",
    "\n",
    "[^2]: 微分で遊ぼう サイエンス・カフェ in 静岡 第78話 清水扇丈"
   ]
  },
  {
   "cell_type": "markdown",
   "metadata": {},
   "source": [
    "### 関数\n",
    "関数の性質\n",
    "#### 定義\n",
    "数と数の対応を一意的に与えることができる場合にその対応を関数と呼ぶ.\n",
    "***\n",
    "関数は対応をグラフによって「可視化」できる.\n",
    "\n",
    "### 連続関数\n",
    "関数はグラフと直結しているので, いろいろな物体の形状, 様子, 時間による変化など様々な対称を関数と見なすことができる.\n",
    "#### 定義\n",
    "グラフがつながっている関数を連続関数と呼ぶ.\n",
    "\n",
    "##### 連続関数の例\n",
    "この様々な初等関数の例はすべてなめらかな曲線のグラフを持つ.\n",
    "\n",
    "* 一次関数  \n",
    "$y= ax+b \\ \\ \\ (a\\neq0)$  　　\n",
    "\n",
    "* 二次関数  \n",
    "$y= ax^{2}+bx+c \\ \\ \\ (a\\neq0)$  　　\n",
    "\n",
    "* $n$次多項式関数  \n",
    "$y= \\sum_{k=0}^{n} a_{k}x^{k} \\ \\ \\ (a_{n}\\neq0)$  　　\n",
    "\n",
    "* 指数関数\n",
    "$y= \\mathrm{e}^{x}$  　　\n",
    "\n",
    "* 三角関数  \n",
    "$y=\\sin kx, \\ y=\\cos mx, \\ y=\\sec x$  \n",
    "ちなみに\n",
    "$\\sec x=\\frac{1}{\\cos x}$ で, $\\cos x$ の逆数の意味　　\n",
    "\n",
    "* 分数関数  \n",
    "$y= \\frac{ax+b}{cx+d} \\ \\ \\ (x=-\\frac{d}{c}は除く)$  \n",
    "\n",
    "* 対数関数  \n",
    "$y= \\log x \\ \\ \\ (x>0)$"
   ]
  },
  {
   "cell_type": "markdown",
   "metadata": {},
   "source": [
    "定義\n",
    "\n",
    "点 $a$ における関数 $f(x)$ の微分とは\n",
    "$$f' (a) \\equiv \\lim_{x \\to a} \\frac{f(x) - f(a)}{x - a}$$"
   ]
  },
  {
   "cell_type": "markdown",
   "metadata": {},
   "source": [
    "# 積分とは\n",
    "面積を分けて考える,という意味.  \n",
    "微分とは,微かく分けて考える,曲線を分解し分析する作業.\n",
    "導関数 $f'(x)$を求めることを微分という.\n",
    "\n",
    "導関数とは,各点で接線の傾きを表す関数のこと $(x,f(x))$ $x$に傾きを与える関数$(f'(x))$"
   ]
  },
  {
   "cell_type": "markdown",
   "metadata": {},
   "source": [
    "# 定義\n",
    "関数のグラフの点で接線がただ一つ引ける場合にその点で関数は微分できるという.\n",
    "***\n",
    "微分とは,グラフの接線のことである.\n",
    "\n",
    "点 $a$ における関数 $f(x)$ の微分とは\n",
    "$$f' (a) \\equiv \\lim_{x \\to a} \\frac{f(x) - f(a)}{x - a}$$\n",
    "\n",
    "同値な表現として\n",
    "$$f(x)-f(a)=(x-a) f'(a)+o(|x-a|)$$\n",
    "\n",
    "最後の記号 $o(X)$ は $X  \\rightarrow 0$ となるときに $X$ より早く $0$ に収束する(早いスピードの項) を表す.  \n",
    "$o(|x-a|)$ は誤差を表す.  \n",
    "ちなみに $(x-a) f'(a)$ は一次関数である.\n",
    "\n",
    "すなわち, 微分可能とは一次関数で近似可能であるということ.\n",
    "接線が引けるということは関数が折れ曲がっていないことを表す."
   ]
  },
  {
   "cell_type": "markdown",
   "metadata": {
    "collapsed": true
   },
   "source": [
    "# 微分可能ならば連続か?\n",
    "\n",
    "微分の定義から\n",
    "$$\\lim_{x \\to a} \\left| \\frac{f(x) - f(a)}{x - a} - f' (a) \\right| =0 $$\n",
    "なので\n",
    "$$f(x)-f(a)=(x-a) f'(a)+ 誤差$$\n",
    "となって定義と同値であることがわかる.\n",
    "\n",
    "# 定理\n",
    "微分可能な関数は連続関数である.\n",
    "\n",
    "# 証明\n",
    "微分の同値な定義より\n",
    "$$f(x)-f(a)=(x-a) f'(a)+o(|x-a|)$$\n",
    "の右辺は $|x-a| \\rightarrow 0$ で $0$ に近づくので左辺も $0$ に近づく."
   ]
  },
  {
   "cell_type": "markdown",
   "metadata": {},
   "source": [
    "# 2回微分とは\n",
    "# 定義\n",
    "点 $a$ における関数 $f(x)$ の2階微分とは\n",
    "$$f(x)-f(a)=(x-a) f'(a)+\\frac{1}{2}(x-a)^{2} f''(a)+o(|x-a|^{2})$$\n",
    "が $|x-a| \\rightarrow 0$ のときに成り立つこと.\n",
    "\n",
    "要するにグラフが2次関数で近似できるということ."
   ]
  },
  {
   "cell_type": "markdown",
   "metadata": {},
   "source": [
    "# 不定積分\n",
    "\n",
    "$f(x)$の不定積分を$\\int f(x)dx$とかく\n",
    "$$\\int f(x)dx = F(x)+C $$"
   ]
  }
 ],
 "metadata": {
  "kernelspec": {
   "display_name": "Python 3",
   "language": "python",
   "name": "python3"
  },
  "language_info": {
   "codemirror_mode": {
    "name": "ipython",
    "version": 3
   },
   "file_extension": ".py",
   "mimetype": "text/x-python",
   "name": "python",
   "nbconvert_exporter": "python",
   "pygments_lexer": "ipython3",
   "version": "3.5.0"
  }
 },
 "nbformat": 4,
 "nbformat_minor": 0
}
