{
 "cells": [
  {
   "cell_type": "markdown",
   "metadata": {},
   "source": [
    "# 偏微分\n",
    "1) 海野 裕也  (著), 岡野原 大輔  (著), 得居 誠也  (著), 徳永 拓之  (著):『[オンライン機械学習 (機械学習プロフェッショナルシリーズ)](http://amzn.to/1Uw0EE3)』講談社, 2015.  \n",
    "2) [線形代数学とは by.大学の物理学](https://youtu.be/BGCgcTO4nbk)\n",
    "\n",
    "偏微分とは,多変数関数を,注目している変数以外は定数だとみなして微分すること.  \n",
    "関数$f(x,y)$を$x$で偏微分したものを,次式のように書く."
   ]
  },
  {
   "cell_type": "markdown",
   "metadata": {},
   "source": [
    "$$ \\frac{\\partial f(x,y)}{\\partial x} $$"
   ]
  },
  {
   "cell_type": "markdown",
   "metadata": {},
   "source": [
    "例えば, $ f(x,y) = 2x + xy + y $という関数があった場合, これを$x$や$y$で偏微分すると,次式のように計算できる."
   ]
  },
  {
   "cell_type": "markdown",
   "metadata": {},
   "source": [
    "$$ \\frac{\\partial f(x,y)}{\\partial x} = 2 + y $$"
   ]
  },
  {
   "cell_type": "markdown",
   "metadata": {},
   "source": [
    "$$\\frac{\\partial f(x,y)}{\\partial y} = x + 1 $$"
   ]
  },
  {
   "cell_type": "markdown",
   "metadata": {},
   "source": [
    "偏微分の記号　$∂$  \n",
    "del,partial d,rounded d などと読まれることが多い"
   ]
  },
  {
   "cell_type": "markdown",
   "metadata": {},
   "source": [
    "$$ \\frac{\\partial}{\\partial x}(x^{3}y^{2}) = 3x^{2}y^{2}$$"
   ]
  },
  {
   "cell_type": "markdown",
   "metadata": {},
   "source": [
    "$x$について偏微分する. $x$以外は定数と見なすということ. $x$だけを変数と思い微分しなさい."
   ]
  },
  {
   "cell_type": "markdown",
   "metadata": {},
   "source": [
    "$$ \\frac{\\partial}{\\partial y}(x^{3}y^{2}) = 2x^{3}y$$"
   ]
  },
  {
   "cell_type": "markdown",
   "metadata": {},
   "source": [
    "$$ \\frac{\\partial}{\\partial z}(x^{3}y^{2}) = 0$$"
   ]
  },
  {
   "cell_type": "code",
   "execution_count": null,
   "metadata": {
    "collapsed": true
   },
   "outputs": [],
   "source": []
  }
 ],
 "metadata": {
  "kernelspec": {
   "display_name": "Python 2",
   "language": "python",
   "name": "python2"
  },
  "language_info": {
   "codemirror_mode": {
    "name": "ipython",
    "version": 2
   },
   "file_extension": ".py",
   "mimetype": "text/x-python",
   "name": "python",
   "nbconvert_exporter": "python",
   "pygments_lexer": "ipython2",
   "version": "2.7.10"
  }
 },
 "nbformat": 4,
 "nbformat_minor": 0
}
