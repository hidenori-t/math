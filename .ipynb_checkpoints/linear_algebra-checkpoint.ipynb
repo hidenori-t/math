{
 "cells": [
  {
   "cell_type": "markdown",
   "metadata": {},
   "source": [
    "# 高校数学でわかる線形代数 (:41)"
   ]
  },
  {
   "cell_type": "code",
   "execution_count": 3,
   "metadata": {
    "collapsed": false
   },
   "outputs": [
    {
     "data": {
      "text/plain": [
       "Matrix([\n",
       "[0, k, 0, 50*k],\n",
       "[1, 1, 0,  150],\n",
       "[0, 0, 1,   70]])"
      ]
     },
     "execution_count": 3,
     "metadata": {},
     "output_type": "execute_result"
    }
   ],
   "source": [
    "# 3行の拡大係数行列\n",
    "from sympy import * # NumPyでは、xやy等の変数を含んだ行列計算は出来ないのでsympy\n",
    "k = Symbol('k')\n",
    "A = Matrix([[k,0,0],[0,1,0],[0,0,1]])\n",
    "B = Matrix([[0,1,0,50],[1,1,0,150],[0,0,1,70]])\n",
    "A*B"
   ]
  },
  {
   "cell_type": "code",
   "execution_count": 4,
   "metadata": {
    "collapsed": false
   },
   "outputs": [
    {
     "data": {
      "text/plain": [
       "Matrix([\n",
       "[    1,       2, 0,        50],\n",
       "[    1,       1, 0,       150],\n",
       "[k + 2, 2*k + 3, 1, 50*k + 70]])"
      ]
     },
     "execution_count": 4,
     "metadata": {},
     "output_type": "execute_result"
    }
   ],
   "source": [
    "# 1行目をk倍して3行目に足すのはどうでしょうか?\n",
    "C = Matrix([[1,0,0],[0,1,0],[k,0,1]])\n",
    "D = Matrix([[1,2,0,50],[1,1,0,150],[2,3,1,70]])\n",
    "C*D"
   ]
  },
  {
   "cell_type": "markdown",
   "metadata": {},
   "source": [
    "## 行の基本変形を行列の掛け算に置き換える(:42)"
   ]
  },
  {
   "cell_type": "code",
   "execution_count": 8,
   "metadata": {
    "collapsed": false
   },
   "outputs": [
    {
     "data": {
      "text/plain": [
       "Matrix([\n",
       "[1, 2, 1, 270],\n",
       "[1, 1, 0, 150],\n",
       "[0, 0, 1,  70]])"
      ]
     },
     "execution_count": 8,
     "metadata": {},
     "output_type": "execute_result"
    }
   ],
   "source": [
    "# 3行目-2行目\n",
    "E = Matrix([[1,0,0],[0,1,0],[0,-1,1]])\n",
    "F = Matrix([[1,2,1,270],[1,1,0,150],[1,1,1,220]])\n",
    "L = E*F\n",
    "L"
   ]
  },
  {
   "cell_type": "code",
   "execution_count": 9,
   "metadata": {
    "collapsed": false
   },
   "outputs": [
    {
     "data": {
      "text/plain": [
       "Matrix([\n",
       "[1, 2, 0, 200],\n",
       "[1, 1, 0, 150],\n",
       "[0, 0, 1,  70]])"
      ]
     },
     "execution_count": 9,
     "metadata": {},
     "output_type": "execute_result"
    }
   ],
   "source": [
    "# 1行目-3行目\n",
    "G = Matrix([[1,0,-1],[0,1,0],[0,0,1]])\n",
    "\n",
    "M = G*L\n",
    "M"
   ]
  },
  {
   "cell_type": "code",
   "execution_count": 14,
   "metadata": {
    "collapsed": false
   },
   "outputs": [
    {
     "data": {
      "text/plain": [
       "Matrix([\n",
       "[0, 1, 0,  50],\n",
       "[1, 1, 0, 150],\n",
       "[0, 0, 1,  70]])"
      ]
     },
     "execution_count": 14,
     "metadata": {},
     "output_type": "execute_result"
    }
   ],
   "source": [
    "# 1行目-2行目\n",
    "H = Matrix([[1,-1,0],[0,1,0],[0,0,1]])\n",
    "\n",
    "N = H*M\n",
    "N"
   ]
  },
  {
   "cell_type": "code",
   "execution_count": 15,
   "metadata": {
    "collapsed": false
   },
   "outputs": [
    {
     "data": {
      "text/plain": [
       "Matrix([\n",
       "[0, 1, 0,  50],\n",
       "[1, 0, 0, 100],\n",
       "[0, 0, 1,  70]])"
      ]
     },
     "execution_count": 15,
     "metadata": {},
     "output_type": "execute_result"
    }
   ],
   "source": [
    "# 2行目-1行目\n",
    "I = Matrix([[1,0,0],[-1,1,0],[0,0,1]])\n",
    "\n",
    "O = I*N\n",
    "O"
   ]
  },
  {
   "cell_type": "code",
   "execution_count": 26,
   "metadata": {
    "collapsed": false
   },
   "outputs": [
    {
     "data": {
      "text/plain": [
       "Matrix([\n",
       "[1, 0, 0, 100],\n",
       "[0, 1, 0,  50],\n",
       "[0, 0, 1,  70]])"
      ]
     },
     "execution_count": 26,
     "metadata": {},
     "output_type": "execute_result"
    }
   ],
   "source": [
    "# 1行目と2行目の交換\n",
    "J = Matrix([[0,1,0],[1,0,0],[0,0,1]])\n",
    "\n",
    "P = J*O\n",
    "P"
   ]
  },
  {
   "cell_type": "markdown",
   "metadata": {},
   "source": [
    "# 複数の行の基本変形を1つの行列にまとめよう\n",
    "このように，「行列のかけ算」で「行の基本変形」が行えるということは，  \n",
    "このすべてのかけ算を行列 $\\boldsymbol{ A }$ に左からかけると，  \n",
    "ここで見たように，拡大係数行列の左側部分の小行列は単位行列になることを意味しています．  \n",
    "実際にここで使った行列のかけ算をしてみると"
   ]
  },
  {
   "cell_type": "code",
   "execution_count": 27,
   "metadata": {
    "collapsed": false
   },
   "outputs": [
    {
     "data": {
      "text/plain": [
       "Matrix([\n",
       "[1, 0, 0, 100],\n",
       "[0, 1, 0,  50],\n",
       "[0, 0, 1,  70]])"
      ]
     },
     "execution_count": 27,
     "metadata": {},
     "output_type": "execute_result"
    }
   ],
   "source": [
    "Q = J*I*H*G*E*F\n",
    "Q"
   ]
  },
  {
   "cell_type": "markdown",
   "metadata": {},
   "source": [
    "となり，拡大係数行列の左側部分は単位行列になっています．  \n",
    "この左側の $5$ つの行列のかけ算を求めてみましょう．"
   ]
  },
  {
   "cell_type": "code",
   "execution_count": 31,
   "metadata": {
    "collapsed": false
   },
   "outputs": [
    {
     "data": {
      "text/plain": [
       "Matrix([\n",
       "[-1,  1,  1],\n",
       "[ 1,  0, -1],\n",
       "[ 0, -1,  1]])"
      ]
     },
     "execution_count": 31,
     "metadata": {},
     "output_type": "execute_result"
    }
   ],
   "source": [
    "R = J*I*H*G*E\n",
    "R"
   ]
  },
  {
   "cell_type": "markdown",
   "metadata": {},
   "source": [
    "この行列を $\\boldsymbol{A'}$ と書くことにして，$\\boldsymbol{A'}$ を $\\boldsymbol{A}$ にかけると単位行列 $\\boldsymbol{E}$ になるので，この関係は  "
   ]
  },
  {
   "cell_type": "code",
   "execution_count": null,
   "metadata": {
    "collapsed": true
   },
   "outputs": [],
   "source": []
  }
 ],
 "metadata": {
  "kernelspec": {
   "display_name": "Python 3",
   "language": "python",
   "name": "python3"
  },
  "language_info": {
   "codemirror_mode": {
    "name": "ipython",
    "version": 3
   },
   "file_extension": ".py",
   "mimetype": "text/x-python",
   "name": "python",
   "nbconvert_exporter": "python",
   "pygments_lexer": "ipython3",
   "version": "3.5.0"
  }
 },
 "nbformat": 4,
 "nbformat_minor": 0
}
