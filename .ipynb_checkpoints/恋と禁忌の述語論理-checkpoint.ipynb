{
 "cells": [
  {
   "cell_type": "markdown",
   "metadata": {},
   "source": [
    "井上 真偽 の [恋と禁忌の述語論理](http://amzn.to/1OnnY3a)"
   ]
  },
  {
   "cell_type": "markdown",
   "metadata": {},
   "source": [
    "# 充足問題\n",
    "目的の論理式が真になるよう, 論理式に現れる各命題記号に真か偽かを当てはめていく問題のこと."
   ]
  },
  {
   "cell_type": "markdown",
   "metadata": {},
   "source": [
    "次の充足問題を解け\n",
    "\n",
    "A: 私は風呂場にいる.  \n",
    "B: 私は蔵にいる.  \n",
    "C: 私は台所の戸棚の上にいる.  \n",
    "D: 私は家の中のどこにもいない.  \n",
    "\n",
    "論理式\n",
    "$$(\\neg C  \\Rightarrow B) \\wedge \\neg(\\neg A  \\Rightarrow  B) \\wedge (D  \\Rightarrow (A \\wedge C))$$は真である"
   ]
  },
  {
   "cell_type": "markdown",
   "metadata": {},
   "source": [
    "(私は台所の戸棚の上にいる. でない ならば 私は蔵にいる.) かつ (私は風呂場にいる. でない ならば 私は蔵にいる.)でない かつ (私は家の中のどこにもいない. ならば (私は風呂場にいる. かつ 私は台所の戸棚の上にいる.) は真である."
   ]
  },
  {
   "cell_type": "markdown",
   "metadata": {},
   "source": [
    "私は台所の戸棚の上にいなければ, 蔵にいる かつ\n",
    "風呂場にいない のに 蔵にいない かつ\n",
    "家の中のどこにもいなければ,風呂場にいて かつ 台所の戸棚の上にいる.\n",
    "\n",
    "は真である."
   ]
  },
  {
   "cell_type": "markdown",
   "metadata": {},
   "source": [
    "$$(\\neg C  \\Rightarrow B) \\wedge \\neg A \\wedge \\neg B \\wedge (D  \\Rightarrow (A \\wedge C))$$"
   ]
  },
  {
   "cell_type": "markdown",
   "metadata": {},
   "source": [
    "$\\neg(\\neg A  \\Rightarrow  B)$\n",
    "は\n",
    "$\\neg A  \\wedge  \\neg B$"
   ]
  },
  {
   "cell_type": "markdown",
   "metadata": {},
   "source": [
    "同値変形から、∧ を含む論理式を ¬, ∨ だけを含む論理式で表現できるし、\n",
    "∨ を含む論理式を ¬, ∧ だけを含む論理式で表現できる  \n",
    "nand | だけで表す事もできるはず"
   ]
  },
  {
   "cell_type": "markdown",
   "metadata": {},
   "source": [
    "$ \\vee  \\wedge  \\forall  \\exists  \\Leftrightarrow  \\leftarrow  \\rightarrow  \\neg $"
   ]
  },
  {
   "cell_type": "markdown",
   "metadata": {},
   "source": [
    "p70\n",
    "「私が台所の戸棚の上にいないなら私は蔵にいる」かつ「私が風呂場にいないならば私は蔵にいる, ということはない」かつ「私が家の中のどこにもいないならば私は風呂場にいてかつ台所の戸棚の上にもいる」\n",
    "\n",
    "p71\n",
    "# 選言標準形 disjunctive normal form\n",
    "\n",
    "p72\n",
    "証明とは一般に, 何かの正しい証拠から結論を導くこと\n",
    "数理論理学の用語では, 公理と推論規則から目的の論理式を導くこと, と表現される.\n",
    "\n",
    "## 公理\n",
    "証明の前提となる事実や法則のこと\n",
    "間違った公理からは間違った結論が導かれる\n",
    "\n",
    "## 推論規則\n",
    "論理式から他の論理式を導く規則のこと\n",
    "\n",
    "公理に定義された論理式に推論規則を次々に適用し, 目的の論理式を演繹する それが, 数理論理学における証明のイメージ\n",
    "\n",
    "公理系には公理と推論規則が必要\n",
    "\n",
    "\n",
    "## 三段論法\n",
    "modusponens (モーダスポーネンス), 前件肯定の三段論法 などと言われる.\n",
    "$$ \\frac{p, ~p \\rightarrow q}{q} $$\n",
    "\n",
    "# QED // □ ■ \n",
    "(証明終了)\n",
    "\"That was to be proved.\"\n",
    "おしまい"
   ]
  },
  {
   "cell_type": "markdown",
   "metadata": {},
   "source": [
    "# 人は最低限, いくつの公理といくつの推論規則があれば, 論理的な証明が出来るか?\n",
    "\n",
    "3つの公理, 1つの推論規則\n",
    "\n",
    "## 公理\n",
    "\n",
    "A1)\n",
    "$$p \\rightarrow (q \\rightarrow p)$$\n",
    "\n",
    "A2)\n",
    "$$(p \\rightarrow (q \\rightarrow r)) \\rightarrow ((p \\rightarrow q) \\rightarrow ( p \\rightarrow r)) $$\n",
    "\n",
    "A3)\n",
    "$$( \\neg p \\rightarrow \\neg q ) \\rightarrow ( q \\rightarrow p)$$\n",
    "\n",
    "## 推論規則\n",
    "modusponens (モーダスポーネンス), 前件肯定の三段論法 などと言われる.\n",
    "$$ \\frac{p, ~p \\rightarrow q}{q} $$"
   ]
  }
 ],
 "metadata": {
  "kernelspec": {
   "display_name": "Python 3",
   "language": "python",
   "name": "python3"
  },
  "language_info": {
   "codemirror_mode": {
    "name": "ipython",
    "version": 3
   },
   "file_extension": ".py",
   "mimetype": "text/x-python",
   "name": "python",
   "nbconvert_exporter": "python",
   "pygments_lexer": "ipython3",
   "version": "3.5.0"
  }
 },
 "nbformat": 4,
 "nbformat_minor": 0
}
