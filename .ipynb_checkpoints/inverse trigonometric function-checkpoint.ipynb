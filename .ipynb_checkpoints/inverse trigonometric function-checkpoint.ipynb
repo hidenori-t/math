{
 "cells": [
  {
   "cell_type": "markdown",
   "metadata": {},
   "source": [
    "# inverse trigonometric function (逆三角関数)"
   ]
  },
  {
   "cell_type": "markdown",
   "metadata": {},
   "source": [
    "$$ y= \\sin x $$\n",
    "$$ y= \\cos x $$\n",
    "$$ y= \\tan x $$\n",
    "の逆関数はそれぞれ  \n",
    "$$ y= \\sin^{-1}x = arcsin x $$\n",
    "$$ y= \\cos^{-1}x = arccos x $$\n",
    "$$ y= \\tan^{-1}x = arctan x $$"
   ]
  },
  {
   "cell_type": "markdown",
   "metadata": {},
   "source": [
    "逆三角関数の値を求めると,例えば\n",
    "$$ \\sin^{-1}1 = arcsin 1 = \\frac{π}{2}$$\n",
    "\n",
    "$$ \\cos^{-1}\\left(-\\frac{1}{2}\\right) = arccos \\left(-\\frac{1}{2}\\right) = \\frac{2π}{3}$$\n",
    "$$ \\tan^{-1}\\left(-\\frac{1}{\\sqrt{3}}\\right) = arctan \\left(-\\frac{1}{\\sqrt{3}}\\right) = -\\frac{6}{π}$$\n",
    "\n",
    "\n",
    "逆三角関数のグラフは三角関数のグラフと,直線 $y=x$ に関して対称である.  \n",
    "(逆関数のグラフはもとの関数のグラフと, 直線 $y=x$ に関して対称)"
   ]
  },
  {
   "cell_type": "code",
   "execution_count": null,
   "metadata": {
    "collapsed": true
   },
   "outputs": [],
   "source": []
  }
 ],
 "metadata": {
  "kernelspec": {
   "display_name": "Python 2",
   "language": "python",
   "name": "python2"
  },
  "language_info": {
   "codemirror_mode": {
    "name": "ipython",
    "version": 2
   },
   "file_extension": ".py",
   "mimetype": "text/x-python",
   "name": "python",
   "nbconvert_exporter": "python",
   "pygments_lexer": "ipython2",
   "version": "2.7.10"
  }
 },
 "nbformat": 4,
 "nbformat_minor": 0
}
