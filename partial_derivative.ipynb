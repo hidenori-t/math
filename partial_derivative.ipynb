{
 "cells": [
  {
   "cell_type": "markdown",
   "metadata": {},
   "source": [
    "# 偏微分"
   ]
  },
  {
   "cell_type": "markdown",
   "metadata": {},
   "source": [
    "## 参考文献\n",
    "1) 海野 裕也  (著), 岡野原 大輔  (著), 得居 誠也  (著), 徳永 拓之  (著):『[オンライン機械学習 (機械学習プロフェッショナルシリーズ)](http://amzn.to/1Uw0EE3)』講談社, 2015.  \n",
    "2) [線形代数学とは by.大学の物理学](https://youtu.be/3Dpu4EruDno)"
   ]
  },
  {
   "cell_type": "markdown",
   "metadata": {},
   "source": [
    "偏微分の記号　$∂$  \n",
    "del,partial d,rounded d と読まれることが多い."
   ]
  },
  {
   "cell_type": "markdown",
   "metadata": {},
   "source": [
    "偏微分とは,多変数関数を,注目している変数以外は定数だとみなして微分すること.  \n",
    "$ \\frac{\\partial}{\\partial x} $は $x$について偏微分する = $x$だけを変数と思い微分せよ = $x$以外は定数と見なせ"
   ]
  },
  {
   "cell_type": "markdown",
   "metadata": {},
   "source": [
    "関数 $f(x,y)$を$x$で偏微分したものを,次式のように書く.\n",
    "$$ \\frac{\\partial f(x,y)}{\\partial x} $$"
   ]
  },
  {
   "cell_type": "markdown",
   "metadata": {},
   "source": [
    "オーソドックスな書き方$$ =\\frac{\\partial}{\\partial x}f(x,y) $$"
   ]
  },
  {
   "cell_type": "markdown",
   "metadata": {},
   "source": [
    "$y$は係数とみなす$$  =\\left(\\frac{\\partial f}{\\partial x}\\right)_{y} $$"
   ]
  },
  {
   "cell_type": "markdown",
   "metadata": {},
   "source": [
    "右下は省略$$ =\\frac{\\partial f}{\\partial x}$$"
   ]
  },
  {
   "cell_type": "markdown",
   "metadata": {},
   "source": [
    "$f$を$x$について偏微分$$ = f_{x}={\\partial}_{x}f$$"
   ]
  },
  {
   "cell_type": "markdown",
   "metadata": {},
   "source": [
    "***"
   ]
  },
  {
   "cell_type": "markdown",
   "metadata": {},
   "source": [
    "$x^{3}y^{2}$を$x$について偏微分するとする\n",
    "$$ \\frac{\\partial}{\\partial x}(x^{3}y^{2}) = 3x^{2}y^{2}$$\n",
    "$x^{3}$は微分し, $3x^{2}$になり, $y^{2}$は定数とみなしている."
   ]
  },
  {
   "cell_type": "markdown",
   "metadata": {},
   "source": [
    "$x^{3}y^{2}$を$y$について偏微分するとする\n",
    "$$ \\frac{\\partial}{\\partial y}(x^{3}y^{2}) = 2x^{3}y$$\n",
    "$y^{2}$は微分し, $2y$になり, $x^{3}$は定数とみなしている."
   ]
  },
  {
   "cell_type": "markdown",
   "metadata": {},
   "source": [
    "$x^{3}y^{2}$を$z$について偏微分するとする\n",
    "$$ \\frac{\\partial}{\\partial z}(x^{3}y^{2}) = 0$$\n",
    "$z$で微分し, $x^{3}y^{2}$は定数とみなしている."
   ]
  },
  {
   "cell_type": "markdown",
   "metadata": {},
   "source": [
    "例えば, $ f(x,y) = 2x + xy + y $という関数があった場合, これを$x$や$y$で偏微分すると,次式のように計算できる."
   ]
  },
  {
   "cell_type": "markdown",
   "metadata": {},
   "source": [
    "$$ \\frac{\\partial f(x,y)}{\\partial x} = 2 + y $$"
   ]
  },
  {
   "cell_type": "markdown",
   "metadata": {},
   "source": [
    "$$\\frac{\\partial f(x,y)}{\\partial y} = x + 1 $$"
   ]
  }
 ],
 "metadata": {
  "kernelspec": {
   "display_name": "Python 2",
   "language": "python",
   "name": "python2"
  },
  "language_info": {
   "codemirror_mode": {
    "name": "ipython",
    "version": 2
   },
   "file_extension": ".py",
   "mimetype": "text/x-python",
   "name": "python",
   "nbconvert_exporter": "python",
   "pygments_lexer": "ipython2",
   "version": "2.7.10"
  }
 },
 "nbformat": 4,
 "nbformat_minor": 0
}
