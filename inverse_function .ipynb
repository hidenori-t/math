{
 "cells": [
  {
   "cell_type": "markdown",
   "metadata": {},
   "source": [
    "# inverse function ( 逆関数 )\n",
    "* $x$ の関数 $y=f(x)$ において, $y$ の値を定めると, $x$ の値がただ $1$ つ定まるとき, すなわち, $x$ が $y$ の関数として $x=g(y)$ と表されるとき, $g(x)$ を $f(x)$ の逆関数といい, $f^{-1}(x)$ で表す.\n",
    "\n",
    "\n",
    "* 逆関数とは，$x$ と $y$ の「役割」を交換し,同じ対応を逆から見た関数のこと"
   ]
  },
  {
   "cell_type": "markdown",
   "metadata": {},
   "source": [
    "## 逆関数の求め方  \n",
    "1. $y = f(x)$ という関係式を，独立変数 $x$ について解き, $x = g(y)$ の形にする.\n",
    "2. 独立変数が $x$，従属変数が $y$ になるように書きかえて(つまり，多くの場合，$x$ を $y$ に，$y$ を $x$ に書きかえて)， $y = g(x)$ とする."
   ]
  },
  {
   "cell_type": "markdown",
   "metadata": {},
   "source": [
    "### 独立変数が $x$，従属変数が $y$ になるように書きかえる理由\n",
    "[進研ゼミ高校講座 高校生の苦手解決Q&A](http://kou.benesse.co.jp/nigate/math/a14m2102.html)によると...  \n",
    "数学のルールでは,一般に,関数を「$x$の関数」で表すから.  \n",
    "(そう言われても,いまいち納得出来ない...)"
   ]
  },
  {
   "cell_type": "markdown",
   "metadata": {},
   "source": [
    "## 逆関数の性質\n",
    "* 逆関数では，もとの関数の定義域，値域が，値域，定義域となる.(このことを「定義域と値域が入れかわる」と表現される場合もある.)\n",
    "* $y = f(x)$ のグラフとその逆関数 $y=g(x)$ のグラフは，直線 $y=x$ に関して対称である."
   ]
  },
  {
   "cell_type": "markdown",
   "metadata": {},
   "source": [
    "### 例"
   ]
  },
  {
   "cell_type": "markdown",
   "metadata": {},
   "source": [
    "$ y = x-1$ があるとして,この関数を $ x $ について解くと, $ x = y+1$ となる.  \n",
    "つまり, この関数は, $x$ が $y$ の関数であるのと同時に, $y$ も $x$ の関数である.\n",
    "\n",
    "このように,  \n",
    "$y = f(x)$ において  \n",
    "$x$ が $y$ の関数であるのと同時に,  \n",
    "$y$ もまた $x$ の関数であるとき,  \n",
    "$x$ について解いた式を  \n",
    "$x＝g(y)$ とし,  \n",
    "$x$ と $y$ の値を入れ替えた関数 $y = g(x)$ を $f(x)$ の逆関数といい,  \n",
    "$f^{-1}(x)$ で表す."
   ]
  },
  {
   "cell_type": "markdown",
   "metadata": {},
   "source": [
    "$y= x-1$ の逆の操作を言葉で表すと,「ある数 $x$ に $1$ を足す関数( $y = x+1$ )」  \n",
    "つまり,　逆関数 $f^{-1}(x) = x+1$ となる."
   ]
  },
  {
   "cell_type": "markdown",
   "metadata": {},
   "source": [
    "***"
   ]
  },
  {
   "cell_type": "markdown",
   "metadata": {},
   "source": [
    "どんな関数でも逆関数をもつわけではない.  \n",
    "例えば, 関数 $y=x^{2}$ において, $y=1$ に対応する $x$ の値は $1$ と $-1$ の $2$ つあるから, 関数 $y=x^{2}$ の逆関数は存在しない.  \n",
    "ところが, 関数 $y=x^{2}　(x\\geqq0)$ については, $y$ の値を定めると $x$ の値がただ $1$ つ定まるので,逆関数が存在する."
   ]
  },
  {
   "cell_type": "markdown",
   "metadata": {},
   "source": [
    "## 参考文献\n",
    " \n",
    "1) 今井 勧 (監修, 監修):『[大学生のための なんとかなる微分積分](http://amzn.to/1QoH2ve)』ナツメ社, 2009.  \n",
    "2) [進研ゼミ高校講座 高校生の苦手解決Q&A](http://kou.benesse.co.jp/nigate/math/a14m2102.html)    \n",
    "3) [逆関数とは何？](http://manapedia.jp/text/939) "
   ]
  },
  {
   "cell_type": "markdown",
   "metadata": {},
   "source": [
    "## 逆関数を機械的に求める\n",
    "$y=f(x)$  \n",
    "$y= x-1$ ①  として,これを$x$について解くと,\n",
    "$x=g(y)$   \n",
    "$x= y+1$ ②　　\n",
    "ここで,数学のルールでは,一般に,関数を「$x$の関数」で表すので,　　\n",
    "②の式でもこのルールにそろえる.  \n",
    "つまり, ②の式において，$x$を$y$に，$y$を$x$に書きかえる.  \n",
    "（このことを「$x$と$y$を入れかえる」と表現している）\n",
    "\n",
    "こうして得られた式 $y=g(x)$  $ y=x+1$ が, ①の逆関数 $f^{-1}(x)$"
   ]
  }
 ],
 "metadata": {
  "kernelspec": {
   "display_name": "Python 2",
   "language": "python",
   "name": "python2"
  },
  "language_info": {
   "codemirror_mode": {
    "name": "ipython",
    "version": 2
   },
   "file_extension": ".py",
   "mimetype": "text/x-python",
   "name": "python",
   "nbconvert_exporter": "python",
   "pygments_lexer": "ipython2",
   "version": "2.7"
  }
 },
 "nbformat": 4,
 "nbformat_minor": 0
}
