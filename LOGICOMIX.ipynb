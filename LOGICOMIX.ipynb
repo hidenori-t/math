{
 "cells": [
  {
   "cell_type": "markdown",
   "metadata": {},
   "source": [
    "# 述語計算"
   ]
  },
  {
   "cell_type": "markdown",
   "metadata": {
    "collapsed": true
   },
   "source": [
    "述語計算では, 基本命題(または述語)は $P(a, b, c,\\cdots)$ という形をもつ複合的対称であるとされ,   \n",
    "ここで$P$はその言語の記号  \n",
    "$a, b, c,\\cdots$は定項または変項\n",
    "\n",
    "例えば  \n",
    "命題の記号 = 年上の  \n",
    "定項 = プラトン  \n",
    "x = 変項  \n",
    "であるなら,  \n",
    "「年上の(プラトン, x)」はプラトンがxよりも年上であることを表す, 形式規則に従って正しく形成された命題となる.  \n",
    "このタイプの命題は  \n",
    "ブールの論理結合子 $\\vee, \\wedge,  \\neg$ ならびに($\\rightarrow$のこと?) で結合したり  \n",
    "フレーゲの $\\forall x$ や, $\\exists x$ といった量化子で束縛することができる.  \n",
    "\n",
    "したがって  \n",
    "「年上の(x, プラトン)が存在する」は「プラトンより年上の少なくともひとつの個体が存在する」　　\n",
    "\n",
    "例えば  \n",
    "あらゆる整数 $x$ は偶数 $x = 2y$ または奇数 $x = 2y + 1$ である  \n",
    "という算術の定理は  \n",
    "$$\\forall x \\exists y~(~x = 2y ~~or~~ x = 2y + 1~)$$\n",
    "\n",
    " あらゆる $x$ について $x = 2y ~~or~~ x = 2y + 1$ のような $y$ が存在する."
   ]
  },
  {
   "cell_type": "code",
   "execution_count": null,
   "metadata": {
    "collapsed": true
   },
   "outputs": [],
   "source": []
  }
 ],
 "metadata": {
  "kernelspec": {
   "display_name": "Python 3",
   "language": "python",
   "name": "python3"
  },
  "language_info": {
   "codemirror_mode": {
    "name": "ipython",
    "version": 3
   },
   "file_extension": ".py",
   "mimetype": "text/x-python",
   "name": "python",
   "nbconvert_exporter": "python",
   "pygments_lexer": "ipython3",
   "version": "3.5.0"
  }
 },
 "nbformat": 4,
 "nbformat_minor": 0
}
