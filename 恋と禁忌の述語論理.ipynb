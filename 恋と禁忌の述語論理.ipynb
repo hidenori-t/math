{
 "cells": [
  {
   "cell_type": "markdown",
   "metadata": {},
   "source": [
    "井上 真偽 の [恋と禁忌の述語論理](http://amzn.to/1OnnY3a)"
   ]
  },
  {
   "cell_type": "markdown",
   "metadata": {},
   "source": [
    "次の充足問題を解け\n",
    "\n",
    "A: 私は風呂場にいる.  \n",
    "B: 私は蔵にいる.  \n",
    "C: 私は台所の戸棚の上にいる.  \n",
    "D: 私は家の中のどこにもいない.  \n",
    "\n",
    "論理式\n",
    "$$(\\neg C  \\Rightarrow B) \\wedge \\neg(\\neg A  \\Rightarrow  B) \\wedge (D  \\Rightarrow (A \\wedge C))$$は真である"
   ]
  },
  {
   "cell_type": "markdown",
   "metadata": {},
   "source": [
    "(私は台所の戸棚の上にいる. でない ならば 私は蔵にいる.) かつ (私は風呂場にいる. でない ならば 私は蔵にいる.)でない かつ (私は家の中のどこにもいない. ならば (私は風呂場にいる. かつ 私は台所の戸棚の上にいる.) は真である."
   ]
  },
  {
   "cell_type": "markdown",
   "metadata": {},
   "source": [
    "私は台所の戸棚の上にいなければ, 蔵にいる かつ\n",
    "風呂場にいない のに 蔵にいない かつ\n",
    "家の中のどこにもいなければ,風呂場にいて かつ 台所の戸棚の上にいる.\n",
    "\n",
    "は真である."
   ]
  },
  {
   "cell_type": "markdown",
   "metadata": {},
   "source": [
    "$$(\\neg C  \\Rightarrow B) \\wedge \\neg A \\wedge \\neg B \\wedge (D  \\Rightarrow (A \\wedge C))$$"
   ]
  },
  {
   "cell_type": "markdown",
   "metadata": {},
   "source": [
    "$\\neg(\\neg A  \\Rightarrow  B)$\n",
    "は\n",
    "$\\neg A  \\wedge  \\neg B$"
   ]
  },
  {
   "cell_type": "markdown",
   "metadata": {},
   "source": [
    "同値変形から、∧ を含む論理式を ¬, ∨ だけを含む論理式で表現できるし、\n",
    "∨ を含む論理式を ¬, ∧ だけを含む論理式で表現できる  \n",
    "nand | だけで表す事もできるはず"
   ]
  },
  {
   "cell_type": "markdown",
   "metadata": {},
   "source": [
    "$ \\vee  \\wedge  \\forall  \\exists  \\Leftrightarrow  \\leftarrow  \\rightarrow  \\neg $"
   ]
  }
 ],
 "metadata": {
  "kernelspec": {
   "display_name": "Python 3",
   "language": "python",
   "name": "python3"
  },
  "language_info": {
   "codemirror_mode": {
    "name": "ipython",
    "version": 3
   },
   "file_extension": ".py",
   "mimetype": "text/x-python",
   "name": "python",
   "nbconvert_exporter": "python",
   "pygments_lexer": "ipython3",
   "version": "3.5.0"
  }
 },
 "nbformat": 4,
 "nbformat_minor": 0
}
