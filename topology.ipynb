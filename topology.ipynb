{
 "cells": [
  {
   "cell_type": "markdown",
   "metadata": {},
   "source": [
    "https://ja.wikipedia.org/wiki/%E4%BD%8D%E7%9B%B8%E5%B9%BE%E4%BD%95%E5%AD%A6"
   ]
  },
  {
   "cell_type": "markdown",
   "metadata": {},
   "source": [
    "二宮 敦人『世にも美しき数学者たちの日常』cf. p. 234. https://amzn.to/2sK1R3Z\n",
    "\n",
    "\n",
    "同相\n",
    "\n",
    "{く，し，そ，つ，て，ひ，へ，ろ，ん}\n",
    "{い，う，え，こ，ら，り}\n",
    "\n",
    "{せ，も，を}\n",
    "{お，は，む}"
   ]
  },
  {
   "cell_type": "markdown",
   "metadata": {},
   "source": [
    "https://note.com/hidenor/n/n2e629728807f"
   ]
  },
  {
   "cell_type": "markdown",
   "metadata": {},
   "source": [
    "https://mathtod.online/@hidenori_t/103261515765796029"
   ]
  },
  {
   "cell_type": "markdown",
   "metadata": {},
   "source": [
    "https://mathtod.online/@tortoisebekkou/103262272609006595\n",
    "\n",
    "\n",
    "鼈甲 @tortoisebekkou\n",
    "かなや漢字やアルファベットの形状の同相というやつですが、僕は線の太さを0とみなして分類しますが、どこぞには線が正の太さをもつものとする派閥があって、異なる分類結果を公開していたりします。\n",
    "\n",
    "「C」と「T」は線の太さがないと異相で、線の太さがあるとどちらも「■」に同相。"
   ]
  },
  {
   "cell_type": "code",
   "execution_count": null,
   "metadata": {},
   "outputs": [],
   "source": []
  }
 ],
 "metadata": {
  "kernelspec": {
   "display_name": "Python 3",
   "language": "python",
   "name": "python3"
  },
  "language_info": {
   "codemirror_mode": {
    "name": "ipython",
    "version": 3
   },
   "file_extension": ".py",
   "mimetype": "text/x-python",
   "name": "python",
   "nbconvert_exporter": "python",
   "pygments_lexer": "ipython3",
   "version": "3.6.4"
  }
 },
 "nbformat": 4,
 "nbformat_minor": 2
}
